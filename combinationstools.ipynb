{
 "cells": [
  {
   "cell_type": "code",
   "execution_count": 40,
   "metadata": {},
   "outputs": [
    {
     "data": {
      "text/plain": [
       "<itertools.permutations at 0x240321ce3b8>"
      ]
     },
     "execution_count": 40,
     "metadata": {},
     "output_type": "execute_result"
    }
   ],
   "source": [
    "import itertools\n",
    "itertools.permutations(['aa1','aa2','aa3','aa4','aa5'])"
   ]
  },
  {
   "cell_type": "code",
   "execution_count": 52,
   "metadata": {},
   "outputs": [
    {
     "name": "stdout",
     "output_type": "stream",
     "text": [
      "     标题   内容   标签   地区 联系方式   超链接文本\n",
      "0    A1   B1   C1   D1   H1   HTTP1\n",
      "1    A2   B2   C2   D2   H2   HTTP2\n",
      "2    A3   B3   C3   D3  NaN   HTTP3\n",
      "3    A4   B4   C4  NaN  NaN   HTTP4\n",
      "4    A5  NaN   C5  NaN  NaN   HTTP5\n",
      "5    A6  NaN   C6  NaN  NaN   HTTP6\n",
      "6    A7  NaN  NaN  NaN  NaN   HTTP7\n",
      "7    A8  NaN  NaN  NaN  NaN   HTTP8\n",
      "8   NaN  NaN  NaN  NaN  NaN   HTTP9\n",
      "9   NaN  NaN  NaN  NaN  NaN  HTTP10\n",
      "10  NaN  NaN  NaN  NaN  NaN  HTTP11\n",
      "11  NaN  NaN  NaN  NaN  NaN  HTTP12\n",
      "12  NaN  NaN  NaN  NaN  NaN  HTTP13\n",
      "13  NaN  NaN  NaN  NaN  NaN  HTTP14\n",
      "       标题  内容  标签  地区 联系方式   超链接文本\n",
      "0      A1  B1  C1  D1   H1   HTTP1\n",
      "1      A1  B1  C1  D1   H1   HTTP2\n",
      "2      A1  B1  C1  D1   H1   HTTP3\n",
      "3      A1  B1  C1  D1   H1   HTTP4\n",
      "4      A1  B1  C1  D1   H1   HTTP5\n",
      "5      A1  B1  C1  D1   H1   HTTP6\n",
      "6      A1  B1  C1  D1   H1   HTTP7\n",
      "7      A1  B1  C1  D1   H1   HTTP8\n",
      "8      A1  B1  C1  D1   H1   HTTP9\n",
      "9      A1  B1  C1  D1   H1  HTTP10\n",
      "10     A1  B1  C1  D1   H1  HTTP11\n",
      "11     A1  B1  C1  D1   H1  HTTP12\n",
      "12     A1  B1  C1  D1   H1  HTTP13\n",
      "13     A1  B1  C1  D1   H1  HTTP14\n",
      "14     A1  B1  C1  D1   H2   HTTP1\n",
      "15     A1  B1  C1  D1   H2   HTTP2\n",
      "16     A1  B1  C1  D1   H2   HTTP3\n",
      "17     A1  B1  C1  D1   H2   HTTP4\n",
      "18     A1  B1  C1  D1   H2   HTTP5\n",
      "19     A1  B1  C1  D1   H2   HTTP6\n",
      "20     A1  B1  C1  D1   H2   HTTP7\n",
      "21     A1  B1  C1  D1   H2   HTTP8\n",
      "22     A1  B1  C1  D1   H2   HTTP9\n",
      "23     A1  B1  C1  D1   H2  HTTP10\n",
      "24     A1  B1  C1  D1   H2  HTTP11\n",
      "25     A1  B1  C1  D1   H2  HTTP12\n",
      "26     A1  B1  C1  D1   H2  HTTP13\n",
      "27     A1  B1  C1  D1   H2  HTTP14\n",
      "28     A1  B1  C1  D2   H1   HTTP1\n",
      "29     A1  B1  C1  D2   H1   HTTP2\n",
      "...    ..  ..  ..  ..  ...     ...\n",
      "16098  A8  B4  C6  D2   H2  HTTP13\n",
      "16099  A8  B4  C6  D2   H2  HTTP14\n",
      "16100  A8  B4  C6  D3   H1   HTTP1\n",
      "16101  A8  B4  C6  D3   H1   HTTP2\n",
      "16102  A8  B4  C6  D3   H1   HTTP3\n",
      "16103  A8  B4  C6  D3   H1   HTTP4\n",
      "16104  A8  B4  C6  D3   H1   HTTP5\n",
      "16105  A8  B4  C6  D3   H1   HTTP6\n",
      "16106  A8  B4  C6  D3   H1   HTTP7\n",
      "16107  A8  B4  C6  D3   H1   HTTP8\n",
      "16108  A8  B4  C6  D3   H1   HTTP9\n",
      "16109  A8  B4  C6  D3   H1  HTTP10\n",
      "16110  A8  B4  C6  D3   H1  HTTP11\n",
      "16111  A8  B4  C6  D3   H1  HTTP12\n",
      "16112  A8  B4  C6  D3   H1  HTTP13\n",
      "16113  A8  B4  C6  D3   H1  HTTP14\n",
      "16114  A8  B4  C6  D3   H2   HTTP1\n",
      "16115  A8  B4  C6  D3   H2   HTTP2\n",
      "16116  A8  B4  C6  D3   H2   HTTP3\n",
      "16117  A8  B4  C6  D3   H2   HTTP4\n",
      "16118  A8  B4  C6  D3   H2   HTTP5\n",
      "16119  A8  B4  C6  D3   H2   HTTP6\n",
      "16120  A8  B4  C6  D3   H2   HTTP7\n",
      "16121  A8  B4  C6  D3   H2   HTTP8\n",
      "16122  A8  B4  C6  D3   H2   HTTP9\n",
      "16123  A8  B4  C6  D3   H2  HTTP10\n",
      "16124  A8  B4  C6  D3   H2  HTTP11\n",
      "16125  A8  B4  C6  D3   H2  HTTP12\n",
      "16126  A8  B4  C6  D3   H2  HTTP13\n",
      "16127  A8  B4  C6  D3   H2  HTTP14\n",
      "\n",
      "[16128 rows x 6 columns]\n"
     ]
    }
   ],
   "source": [
    "df = pd.read_excel(\"template.xlsx\")\n",
    "print(df.dropna(how = 'all',axis=1))\n",
    "df2 = pd.DataFrame([b for b in itertools.product(df.标题, df.内容, df.标签, df.地区, df.联系方式, df.超链接文本)], columns=df.columns)\n",
    "df3 = df2.dropna().reset_index(drop=True) \n",
    "print(df_new)\n",
    "df_new.to_csv('excel2txt.txt', sep=',', index=False)"
   ]
  },
  {
   "cell_type": "code",
   "execution_count": null,
   "metadata": {},
   "outputs": [],
   "source": []
  }
 ],
 "metadata": {
  "kernelspec": {
   "display_name": "Python 3",
   "language": "python",
   "name": "python3"
  },
  "language_info": {
   "codemirror_mode": {
    "name": "ipython",
    "version": 3
   },
   "file_extension": ".py",
   "mimetype": "text/x-python",
   "name": "python",
   "nbconvert_exporter": "python",
   "pygments_lexer": "ipython3",
   "version": "3.7.3"
  }
 },
 "nbformat": 4,
 "nbformat_minor": 2
}
